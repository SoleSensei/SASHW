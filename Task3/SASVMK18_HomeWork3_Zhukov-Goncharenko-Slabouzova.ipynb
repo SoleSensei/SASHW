{
 "cells": [
  {
   "cell_type": "markdown",
   "metadata": {},
   "source": [
    "# Домашнее задание №3\n",
    "## Знакомство с языком обработки данных SAS Base\n",
    "### Набегающие суммы. Агрегирование данных. Сортировка. Циклы. Массивы."
   ]
  },
  {
   "cell_type": "markdown",
   "metadata": {},
   "source": [
    "_[Гончаренко Дмитрий Александрович, Жуков Павел Николаевич, Слабоузова Анна Константиновна]_"
   ]
  },
  {
   "cell_type": "markdown",
   "metadata": {},
   "source": [
    "### 0. Подготовка файлов для выполнения ДЗ.\n",
    "Вместе с данным файлом в архиве находятся данные для выполнения ДЗ: \n",
    "- 4 набора данных SAS: **orion.orders_midyear**, **orion.order_qtrsum**, **orion.order_fact**, **orion.test_answers**;\n",
    "\n",
    "**_Перед выполнением каждого задания познакомьтесь со структурой соответствующего входного набора - это должно ускорить выполнение! _**\n",
    "\n",
    "Скопируйте данные в директорию на вашем компьютере, которая связана с виртуальной машиной. Далее всю работу мы будем проводить в этой директории. \n",
    "\n",
    "C помощью оператора `libname` создайте библиотеку SAS с именем *_Orion_*, которая \"смотрит\"/\"является ссылкой\" на директорию, в которую вы скопировали данные для выполнения задания.\n"
   ]
  },
  {
   "cell_type": "code",
   "execution_count": null,
   "metadata": {},
   "outputs": [],
   "source": [
    "libname Orion \"/folders/myfolders/SASHW/Task3\""
   ]
  },
  {
   "cell_type": "markdown",
   "metadata": {},
   "source": [
    "### 1.  Использование массивов для повторяющихся вычислений \n",
    "В наборе данных **`orion.orders_midyear`** хранится информация о сумме покупок для каждого клиента, сгруппированная по месяцам первой половины года. Менеджер по продажам Orion Star хочет на основании этих данных оценить, сколько бы потратили клиенты с учётом **5% скидки** на все товары. Требуется создать таблицу с прогнозами трат для каждого клиента в разбивке по месяцам. "
   ]
  },
  {
   "cell_type": "markdown",
   "metadata": {},
   "source": [
    "##### a.   Создайте набор данных **`discount_sales`**, учитывающий 5% скидку. \n",
    "- Создайте массив `Mon` для доступа к переменным с `Month1` по `Month6`. \n",
    "- Используйте цикл `DO` для пересчёта старых значений сумм покупок в новые. (Служебная переменная, используемая в цикле, не должна оказаться в результирующем наборе.)\n",
    "- Заодно, расчитайте ожидаемую сумму покупок за все 6 месяцев для каждого клиента.\n",
    "\n",
    "##### b.   Напечатайте первые 5 наблюдений из полученного набора SAS. \n",
    "- Добавьте подходящий заголоков к результату (оператор `title \"...\";`);\n",
    "- Сумму покупок за 6 месяцев выведите в формате `DOLLAR12.2`;  "
   ]
  },
  {
   "cell_type": "code",
   "execution_count": null,
   "metadata": {},
   "outputs": [],
   "source": [
    "data work.discount_sales;\n",
    "    set orion.orders_midyear;\n",
    "    title \"Customers' purchases with 5% discount\";\n",
    "    array Mon {*} Month1 - Month6;\n",
    "    format new_sum DOLLAR12.2;\n",
    "    do i = 1 to DIM(Mon);\n",
    "        if Mon{i} then do;\n",
    "            Mon{i} = Mon{i} * 0.95;\n",
    "        end;    \n",
    "    end;\n",
    "    new_sum = sum(of Month1 - Month6);\n",
    "    drop i;\n",
    "run;    \n",
    "\n",
    "proc print data=work.discount_sales (obs=5);\n",
    "run;   "
   ]
  },
  {
   "cell_type": "markdown",
   "metadata": {},
   "source": [
    "### 2.  Агрегирование и группировка данных на шаге DATA \n",
    "Набор данных **`orion.order_qtrsum`** содержит информацию о продажах за определённый год для каждого клиента. Информация разбита по месяцам.\n",
    "- В какие-то месяцы (и кварталы) клиент мог не разместить ни одного заказа.  \n",
    "- Переменная `Order_Qtr` содержит соответствующий квартал.\n",
    "\n",
    "##### a.   Создайте набор данных **`work.qtrcustomers`**, в котором подсчитывается сумма стоимости заказов каждого клиента за квартал.   \n",
    "- Переменная `Total_Sales` должна содержать сумму стоимости заказов за каждый квартал для каждого значения `Customer_ID`.   \n",
    "- Создайте переменную `Num_Months`, содержащую число месяцев, за которые клиент размещал хотя бы один заказ, для каждого квартала. \n",
    "- Распечатайте первые 5 наблюдений из полученного набора SAS."
   ]
  },
  {
   "cell_type": "code",
   "execution_count": null,
   "metadata": {},
   "outputs": [],
   "source": [
    "proc sort data=orion.order_qtrsum out=work.proof_order_qtrsum; \n",
    "    by Customer_ID Order_Qtr Order_Month;\n",
    "run;\n",
    "\n",
    "data work.proof_order_qtrsum;\n",
    "    set work.proof_order_qtrsum;\n",
    "    \n",
    "    retain Prev_Order_Month;\n",
    "    retain Prev_Customer_ID;\n",
    "    \n",
    "    if Order_Month = Prev_Order_Month and Customer_ID = Prev_Customer_ID\n",
    "    then Is_Duplicate = \"YES\";\n",
    "    else Is_Duplicate = \"NO\";\n",
    "    \n",
    "    output;\n",
    "    Prev_Order_Month = Order_Month;\n",
    "    Prev_Customer_ID = Customer_ID;\n",
    "run;\n",
    "\n",
    "proc sql;\n",
    "create table work.proof_count as\n",
    "select count(distinct Is_Duplicate) as Unique_Values_In_Is_Duplicate\n",
    "from work.proof_order_qtrsum;\n",
    "run;\n",
    "\n",
    "proc print data=work.proof_order_qtrsum(obs=3 drop=Sale_Amt Prev_Customer_ID Order_QTR);\n",
    "    title \"This table shows, that there are some NO values in Is_Duplicate\";\n",
    "run;\n",
    "\n",
    "proc print data=work.proof_count;\n",
    "    title \"And this one proofs that there are ONLY NO values\";\n",
    "run;"
   ]
  },
  {
   "cell_type": "code",
   "execution_count": null,
   "metadata": {
    "scrolled": true
   },
   "outputs": [],
   "source": [
    "proc sort data=orion.order_qtrsum out=work.sorted_order_qtrsum; \n",
    "    by Customer_ID;\n",
    "run;       \n",
    "\n",
    "data work.qtrcustomers;\n",
    "    set work.sorted_order_qtrsum;\n",
    "    title \"Quarterly statistics\";\n",
    "\n",
    "    by Customer_ID;\n",
    "    if first.Customer_ID then do;\n",
    "        array _total_sales{*} Total_Sales1 - Total_Sales4 (4*0);\n",
    "        array _num_months{*}  Num_Months1 - Num_Months4   (4*0);\n",
    "    end;\n",
    "     \n",
    "    _total_sales{Order_Qtr} = _total_sales{Order_Qtr} + Sale_Amt;\n",
    "    _num_months{Order_Qtr} = _num_months{Order_Qtr} + 1;\n",
    "\n",
    "    if last.Customer_ID then do;\n",
    "        output;\n",
    "        do i = 1 to 4;\n",
    "            _total_sales{i} = 0; \n",
    "            _num_months{i}  = 0;\n",
    "        end;    \n",
    "    end;\n",
    "    \n",
    "    keep Customer_ID\n",
    "         Total_Sales1-Total_Sales4 \n",
    "         Num_Months1-Num_Months4;\n",
    "run;\n",
    "\n",
    "proc print data=work.qtrcustomers (obs=5);\n",
    "run;   "
   ]
  },
  {
   "cell_type": "markdown",
   "metadata": {},
   "source": [
    "### 3.   Создание набегающих сумм по месяцам \n",
    "Набор данных **`orion.order_fact`** содержит группу заказов за несколько лет, отсортированных по `Order_Date`. \n",
    "Требуется создать набор данных, содержащий все заказы, сделанные в Orion Star за 2011 год, и набегающий итог для них: \n",
    "- Этот итог должен _сбрасываться в ноль_ в начале каждого месяца.  \n",
    "- Обратите внимание, что нужно обработать только строки, в которых `Order_Date` относится к 2011 году. \n",
    "- Распечатайте первые 5 наблюдений из полученного набора SAS."
   ]
  },
  {
   "cell_type": "code",
   "execution_count": null,
   "metadata": {},
   "outputs": [],
   "source": [
    "data work.cumsum_2011 (drop = months_passed);\n",
    "    set orion.order_fact;\n",
    "    title \"Accumulative amount for 2011\";\n",
    "\n",
    "    format Month_Cumsum DOLLAR13.2;\n",
    "    if year(Order_Date) ^= 2011 then DELETE;\n",
    "\n",
    "    months_passed = intck('month', Lag(Order_Date), Order_Date);\n",
    "    if months_passed > 0 then\n",
    "        Month_Cumsum = 0;\n",
    "    Month_Cumsum + Total_Retail_Price;\n",
    "    output;    \n",
    "run;\n",
    "\n",
    "proc print data=work.cumsum_2011 (obs=5); \n",
    "run;"
   ]
  },
  {
   "cell_type": "markdown",
   "metadata": {},
   "source": [
    "### 4. Использование текстового массива для табличного поиска\n",
    "Отделу общественной безопасности нужно, чтобы все сотрудники ознакомились с новыми правилами и процедурами в отношении инцидентов с клиентами в розничных магазинах. \n",
    "- Каждый сотрудник должен пройти веб-тренинг, а затем сдать тест, состоящий из 10 вопросов.  \n",
    "- Каждый вопрос имеет пять вариантов ответа (от A до E).  \n",
    "- Результаты тестирования находятся в наборе данных SAS **`orion.test_answers`**.  \n",
    "- Каждое наблюдение в **`orion.test_answers`** содержит ответы одного человека (переменные `Q1` - `Q10`). \n",
    "- Правильные ответы на вопросы теста приведены ниже:\n",
    "\n",
    "\n",
    "    Вопрос: 1 2 3 4 5 6 7 8 9 10 \n",
    "    Ответ:  A C C B E E D B B A \n",
    "    \n",
    "##### a. Определите, кто из сотрудников прошёл или не прошёл этот тест.  \n",
    "- Вычислите число баллов за тест как число правильных ответов для каждого человека. \n",
    "    _**Замечание:** Создайте временный массив для хранения правильных ответов к тесту._  \n",
    "- Если число баллов, полученных сотрудником, 7 или выше, запишите это наблюдение в набор данных **`passed`**. \n",
    "- Если сотрудник набрал менее 7 баллов, запишите это наблюдение в набор данных **`failed`**.  \n",
    "\n",
    "##### b. Напечатайте набор данных **`passed`**, чтобы проверить наличие в нём 12 наблюдений. "
   ]
  },
  {
   "cell_type": "code",
   "execution_count": null,
   "metadata": {},
   "outputs": [],
   "source": [
    "data work.passed work.failed;\n",
    "    set orion.test_answers;\n",
    "    title \"Passed result\";\n",
    "    array _true_answers {10}  $ _temporary_ ('A', 'C', 'C', 'B', 'E', 'E', 'D', 'B', 'B', 'A');\n",
    "    array _answers {10} $ Q1-Q10;\n",
    "    res = 0;\n",
    "    do i = 1 to 10;\n",
    "        if _true_answers{i} = _answers{i} then\n",
    "            res = res + 1;\n",
    "    end;\n",
    "    if res >= 7 then output work.passed;\n",
    "    else output work.failed;\n",
    "    drop i res;\n",
    "run;    \n",
    "\n",
    "proc print data=passed;\n",
    "run;"
   ]
  }
 ],
 "metadata": {
  "kernelspec": {
   "display_name": "SAS",
   "language": "sas",
   "name": "sas"
  },
  "language_info": {
   "codemirror_mode": "sas",
   "file_extension": ".sas",
   "mimetype": "text/x-sas",
   "name": "sas"
  }
 },
 "nbformat": 4,
 "nbformat_minor": 1
}
