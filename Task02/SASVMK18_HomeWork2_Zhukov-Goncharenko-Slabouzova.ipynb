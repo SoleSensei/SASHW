{
 "cells": [
  {
   "cell_type": "markdown",
   "metadata": {},
   "source": [
    "# Домашнее задание №2\n",
    "## Знакомство с языком обработки данных SAS Base\n",
    "### Библиотеки и наборы данных SAS. Работа с переменными. Выборка данных. Вывод результатов в несколько наборов SAS"
   ]
  },
  {
   "cell_type": "markdown",
   "metadata": {},
   "source": [
    "_[Гончаренко Дмитрий Александрович, Жуков Павел Николаевич, Слабоузова Анна Константиновна]_"
   ]
  },
  {
   "cell_type": "markdown",
   "metadata": {},
   "source": [
    "### 0. Подготовка файлов для выполнения ДЗ.\n",
    "Вместе с данным файлом в архиве находятся данные для выполнения ДЗ: \n",
    "- 4 набора данных SAS: **country**, **discount**, **employee_organization**, **orders**;\n",
    "- 1 файл в формате excel (*.xlsx): **PRICES.XLSX***;\n",
    "\n",
    "Скопируйте данные в директорию на вашем компьютере, которая связана с виртуальной машиной. Далее всю работу мы будем проводить в этой директории.\n"
   ]
  },
  {
   "cell_type": "markdown",
   "metadata": {},
   "source": [
    "### 1. Создание библиотеки.\n",
    "C помощью оператора libname создайте библиотеку SAS с именем *_Orion_*, которая \"смотрит\"/\"является ссылкой\" на директурию, в которую вы скопировали данные для выполнения задания."
   ]
  },
  {
   "cell_type": "code",
   "execution_count": null,
   "metadata": {
    "collapsed": true
   },
   "outputs": [],
   "source": [
    "libname Orion \"/folders/myfolders/Task2\";"
   ]
  },
  {
   "cell_type": "markdown",
   "metadata": {},
   "source": [
    "### 2. Импорт файлов excel в SAS\n",
    "Измените следующий код так, чтобы набор данных SAS (результат импорта из excel, который вы скопировали в п.0) помещался бы в библиотеку _Orion_.\n",
    "Также напечатайте первые 5 наблюдений из полученного набора SAS."
   ]
  },
  {
   "cell_type": "code",
   "execution_count": null,
   "metadata": {
    "collapsed": true
   },
   "outputs": [],
   "source": [
    "proc import file=\"/folders/myfolders/Task2/PRICES.xlsx\"\n",
    "\t\t    out=Orion.PRICES\n",
    "\t\t    DBMS=XLSX\n",
    "\t\t    REPLACE;\n",
    "run;\n",
    "\n",
    "proc print data=Orion.PRICES (obs=5); run;"
   ]
  },
  {
   "cell_type": "markdown",
   "metadata": {},
   "source": [
    "### 3.1 Оператор вывода наблюдений output;.\n",
    "    Оператор output; немедленно выводит содержимое PVD в выходной набор данных. Если на Шаге DATA встретится несколько операторов output;, то для текущего наблюдения из входного набора будет создано несколько строк в выходном наборе (по количеству выполнившихся output;).\n",
    "    Можно указать в какой набор выводить содержимое PVD: например, оператор output mylib.data; выводит в набор data в библиотеке mylib. Без указания набора содержимое сохраняется во все выходные наборы (все, что указаны в операторе data dataset1 dataset2 /*...*/ ;) \n",
    "\n",
    "Набор данных orion.prices содержит информацию о ценах на товары компнаии Orion Star."
   ]
  },
  {
   "cell_type": "markdown",
   "metadata": {},
   "source": [
    "###### a.   Напишите шаг DATA, создающий новый набор данных с прогнозами стоимости единицы товара на следующие три года. Этот набор данных должен содержать по три наблюдения на каждое наблюдение из входного набора данных orion.prices.\n",
    "    - номер года (1,2 и 3) должен быть сохранен в переменной Year \n",
    "    - На основе набора orion.prices создаётся новый набор данных work.price_increase.  \n",
    "    - Напишите явные операторы OUTPUT для вычисления прогнозов стоимости единицы товара (переменная unit_price) на три последующих года, причём коэффициент, задающий ежегодное изменение стоимости, хранится в переменной Factor. Прогноз здесь - это произведение Unit_Price предыдущего года и переменной Factor. Пример расчета для первого года приведен ниже."
   ]
  },
  {
   "cell_type": "code",
   "execution_count": null,
   "metadata": {
    "collapsed": true
   },
   "outputs": [],
   "source": [
    "data work.price_increase; \n",
    "    set orion.prices;\n",
    "    \n",
    "    do i = 1 to 3;\n",
    "        Year=i;\n",
    "        Unit_Price=Unit_Price * Factor; /* цена изменилась на Factor */\n",
    "        output; /* выводим результаты */\n",
    "    end;\n",
    "run; "
   ]
  },
  {
   "cell_type": "markdown",
   "metadata": {},
   "source": [
    "##### b.   Напечатайте 6 наблюдений из полученного набора данных. \n",
    "    - Напечатайте только переменные Product_ID, Unit_Price и Year.   \n",
    "    - Проверьте результаты. \n"
   ]
  },
  {
   "cell_type": "code",
   "execution_count": null,
   "metadata": {
    "collapsed": true
   },
   "outputs": [],
   "source": [
    "proc print data=work.price_increase (obs=6);    \n",
    "    var Product_ID Unit_Price Year;\n",
    "run;"
   ]
  },
  {
   "cell_type": "markdown",
   "metadata": {},
   "source": [
    "### 3.2  Создание нескольких наборов данных SAS \n",
    "    Набор данных orion.employee_organization содержит информацию о каждом сотруднике: должность (Job_title), подразделение (Department) и идентификатор менеджера (Manager_ID). "
   ]
  },
  {
   "cell_type": "markdown",
   "metadata": {},
   "source": [
    "#####   a.   Создайте отдельный набор данных для каждого подразделения. \n",
    "    Задайте следующие названия этих наборов данных: work.admin, work.stock и work.purchasing. \n",
    "    Используя условные операторы и явный оператор OUTPUT, выведите в эти наборы данных наблюдения, отвечающие подразделению Administration, Stock & Shipping или Purchasing, соответственно. Проигнорируйте все другие значения переменной Department.\n",
    "   Подсказка: будьте аккуратны с регистром и написанием значений для Department. "
   ]
  },
  {
   "cell_type": "code",
   "execution_count": null,
   "metadata": {
    "collapsed": true
   },
   "outputs": [],
   "source": [
    "data work.admin work.stock work.purchasing;    \n",
    "    set orion.employee_organization;\n",
    "    if Department = 'Administration' then output work.admin;\n",
    "    if Department = 'Stock & Shipping' then output work.stock;\n",
    "    if Department = 'Purchasing' then output work.purchasing;\n",
    "run;"
   ]
  },
  {
   "cell_type": "markdown",
   "metadata": {},
   "source": [
    "Перепешите ваше решение, используя условный оператор select ...; when...; end...; или if, если только что уже использовали select."
   ]
  },
  {
   "cell_type": "code",
   "execution_count": null,
   "metadata": {
    "collapsed": true
   },
   "outputs": [],
   "source": [
    "/*  альтернативное решение */\n",
    "data work.admin work.stock work.purchasing;   \n",
    "    set orion.employee_organization;\n",
    "    select (Department);\n",
    "       when ('Administration')      output work.admin;\n",
    "       when ('Stock & Shipping')    output work.stock;\n",
    "       when ('Purchasing')          output work.purchasing;\n",
    "       otherwise;\n",
    "    end;\n",
    "run; "
   ]
  },
  {
   "cell_type": "markdown",
   "metadata": {},
   "source": [
    "### 4.1 Создание нескольких наборов данных SAS с вычисленными значениями \n",
    "Набор данных orion.orders содержит информацию о заказах, сделанных через магазины, по каталогу и в интернете, а также даты их доставки. "
   ]
  },
  {
   "cell_type": "markdown",
   "metadata": {},
   "source": [
    "##### a.   Необходимо подробнее изучить заказы по каталогу и через интернет, которые были доставлены быстро, а также с большими сроками доставки  \n",
    "- Создайте три набора данных: work.fast, work.slow и  work.veryslow. \n",
    "- Напишите оператор WHERE, чтобы считать наблюдения, в которых Order_Type равен  2 (заказы по каталогу) или 3 (через интернет). \n",
    "- Создайте переменную ShipDays, содержащую число дней между датой совершения заказа (order_date) и датой доставки (delivery_date). \n",
    "- Обработайте выходные данные следующим образом: \n",
    "    – Выведите наблюдение в work.fast если значение ShipDays меньше чем 3. \n",
    "    – Выведите наблюдение в work.slow если значение ShipDays лежит в диапазоне от 5 до 7 (включительно). \n",
    "    – Выведите наблюдение в work.veryslow, если значение ShipDays превышает 7.\n",
    "    – Не выводите наблюдение ни в один из наборов данных, если значение ShipDays равно 3 или 4.   \n",
    "- В наборе данных work.fast должно быть 80 наблюдений, в work.slow - 69, а  в work.veryslow - 5. \n",
    "Замечание: Из 490 наблюдений во входном наборе данных orion.orders прочитаны только 230 (из-за оператора WHERE). "
   ]
  },
  {
   "cell_type": "code",
   "execution_count": null,
   "metadata": {
    "collapsed": true
   },
   "outputs": [],
   "source": [
    "data work.fast work.slow work.veryslow;   \n",
    "    set orion.orders;\n",
    "    where Order_Type = 2 or Order_Type = 3;\n",
    "    ShipDays = intck('day', Order_Date, Delivery_Date);\n",
    "    if ShipDays < 3 then output work.fast;\n",
    "    if ShipDays >= 5 and ShipDays <= 7 then output work.slow;\n",
    "    if ShipDays > 7 then output work.veryslow;\n",
    "run;"
   ]
  },
  {
   "cell_type": "markdown",
   "metadata": {},
   "source": [
    "### 5.1 Использование условной логики для вывода нескольких наблюдений \n",
    "Набор данных orion.country содержит информацию о полных названиях стран, а также различные коды для её поиска. "
   ]
  },
  {
   "cell_type": "markdown",
   "metadata": {},
   "source": [
    "##### a.   Создайте новый набор данных, содержащий по одному наблюдению на каждую страну, а также по одному наблюдению на каждое прежнее название этой страны (Country_FormerName).  \n",
    "- Используя операторы условного выполнения if и явный оператор OUTPUT, создайте набор данных work.lookup. \n",
    "- Если для страны существует прежнее название, запишите два наблюдения, одно с текущим названием в переменной Country_Name, а другое - с прежним названием.\n",
    "- Создайте новую переменную Outdated со значениями Y или N, в которой показывается, содержит ли это наблюдение актуальное название страны (Y) или нет (N).  "
   ]
  },
  {
   "cell_type": "code",
   "execution_count": null,
   "metadata": {
    "collapsed": true
   },
   "outputs": [],
   "source": [
    "data work.lookup;\n",
    "    set orion.country;\n",
    "    Outdated = 'N';\n",
    "    output;\n",
    "    if Country_FormerName ^= '' then\n",
    "    do;\n",
    "        Outdated = 'Y';\n",
    "        Country_Name=Country_FormerName;\n",
    "        output;\n",
    "    end;\n",
    "run;"
   ]
  }
 ],
 "metadata": {
  "kernelspec": {
   "display_name": "SAS",
   "language": "sas",
   "name": "sas"
  },
  "language_info": {
   "codemirror_mode": "sas",
   "file_extension": ".sas",
   "mimetype": "text/x-sas",
   "name": "sas"
  }
 },
 "nbformat": 4,
 "nbformat_minor": 1
}
