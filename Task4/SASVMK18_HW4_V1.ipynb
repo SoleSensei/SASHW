{
 "cells": [
  {
   "cell_type": "markdown",
   "metadata": {},
   "source": [
    "# Домашнее задание №3\n",
    "## Знакомство с языком обработки данных SAS Base\n",
    "### Транспонирование. SAS Macro"
   ]
  },
  {
   "cell_type": "markdown",
   "metadata": {},
   "source": [
    "_[Укажите в данной ячейке ФИО всех участников вашей группы - от 1 до 3 человек]_"
   ]
  },
  {
   "cell_type": "markdown",
   "metadata": {},
   "source": [
    "### 0. Подготовка файлов для выполнения ДЗ.\n",
    "Запустите код ниже, чтобы создать набор данных SAS в библиотеке **WORK** для выполнения данного задания. Обратите внимание на операторы шага DATA: `infile`, `input`, `cards`. "
   ]
  },
  {
   "cell_type": "code",
   "execution_count": null,
   "metadata": {},
   "outputs": [],
   "source": [
    "****************************************************;\n",
    "* Create file1 input file;\n",
    "****************************************************;\n",
    "data work.narrow_file1;\n",
    "    infile cards;\n",
    "    length pet_owner $10 pet $4 population 4;\n",
    "    input pet_owner $1-10 pet $ population;\n",
    "cards;\n",
    "Mr. Black dog 2\n",
    "Mr. Black bird 1\n",
    "Mrs. Green fish 5\n",
    "Mr. White cat 3\n",
    ";\n",
    "run;"
   ]
  },
  {
   "cell_type": "markdown",
   "metadata": {},
   "source": [
    "### 1. Транспонирование наборов данных в SAS \n",
    "\n",
    "Транспонирование оказывается очень полезным, когда мы хотим преобразовать данные к формату пригодному для анализа. \n",
    "Иногда из таблицы, где на одного клиента приходится несколько строк с разными характеристиками, нужно сделать таблицу, где на клиента одна строка, а его характеристики - это разные столбцы. \n",
    "- Например, из таблицы:\n",
    "\n",
    "| Client | Account |  Balance |\n",
    "|:---:|:---:|:---:|\n",
    "| Smith | checking | 1,000.00 |\n",
    "| Smith | savings | 4,000.00 |\n",
    "| Smith | mortgage | 150,000.00 |\n",
    "| Smith | credit_card | 500.00|\n",
    "|Jones|checking | 973.78 |\n",
    "|Jones| savings | 2,613.44 |\n",
    "|Jones| mortgage | . |\n",
    "|Jones|credit_card |  140.48 |\n",
    "\n",
    " - Сделать таблицу: \n",
    "\n",
    "|Client| checking| savings| mortgage| credit_card|\n",
    "|:---:|:---:|:---:|:---:|:---:|\n",
    "|Smith|\t 1,000.00| 4,000.00 | 150,000.00| 500.00|\n",
    "|Jones | 973.78 | 2,613.44 | . |140.48|\n",
    "\n",
    "\n",
    "Выполнив примеры из этой части, вы за 30 мин познакомитесь с основами транспонирования в SAS.\n",
    "\n",
    "Документацию по процедуре ** _proc transpose_ ** можно и нужно посмотреть [здесь](http://documentation.sas.com/?docsetId=proc&docsetVersion=9.4&docsetTarget=n1xno5xgs39b70n0zydov0owajj8.htm&locale=en)"
   ]
  },
  {
   "cell_type": "markdown",
   "metadata": {},
   "source": [
    "### 1.1   Самый простой случай"
   ]
  },
  {
   "cell_type": "markdown",
   "metadata": {},
   "source": [
    "Если в proc transpose указать только входной и выходной набор данных, то поумолчанию транспонируются только числовые переменные.  "
   ]
  },
  {
   "cell_type": "code",
   "execution_count": null,
   "metadata": {},
   "outputs": [],
   "source": [
    "title 'набор до транспонирования';\n",
    "proc print data=narrow_file1; run;\n",
    "\n",
    "proc transpose data=narrow_file1 out=transposed_narrow_file1; run;\n",
    "\n",
    "title 'набор после транспонирования';\n",
    "proc print data=transposed_narrow_file1; run;\n",
    "title; "
   ]
  },
  {
   "cell_type": "markdown",
   "metadata": {},
   "source": [
    "**Обратите внимание:**\n",
    "- строковые переменные `pet_owner` и `pet` просто проигнорированы, как будто во входной таблице была только одна переменная `population`!\n",
    "- не проводя сравнение результата и входных данных, трудно сказать, что конкретно выведено в переменной `COL1`!\n",
    "- а что в переменной `_NAME_`?\n"
   ]
  },
  {
   "cell_type": "markdown",
   "metadata": {},
   "source": [
    "### 1.2 Опция `prefix=` и `name=` \n",
    "- Чтобы результат был понятнее, к именан выходных переменных бывает полезно добавить _префикс_. \n",
    "- `name=` позволяет явно задать имя для переменной, содержащей название транспонированной колонки.  "
   ]
  },
  {
   "cell_type": "code",
   "execution_count": null,
   "metadata": {},
   "outputs": [],
   "source": [
    "proc transpose data=narrow_file1 \n",
    "               out=transposed_narrow_file1\n",
    "               prefix=pet_count\n",
    "               name=SOURCE\n",
    "               ; \n",
    "run;\n",
    "\n",
    "title 'набор после транспонирования (опция prefix= и name=)';\n",
    "proc print data=transposed_narrow_file1; run;\n",
    "title; "
   ]
  },
  {
   "cell_type": "markdown",
   "metadata": {},
   "source": [
    "### 1.3 Оператор `id ...;`\n",
    "В операторе можно указать переменную **_входного_** набора, чьи **_значения_** станут названиями переменных в **_выходном_** наборе.\n",
    " - понятно, что **_значения должны быть различными _**- не может же быть двух переменных с одинаковыми названиями. \n",
    " - опцию `prefix=` можно не использовать, если значения могут стать именами (т.е. начинаться с буквы, состоять из букв и цифр и пр.)"
   ]
  },
  {
   "cell_type": "code",
   "execution_count": null,
   "metadata": {},
   "outputs": [],
   "source": [
    "title 'набор до транспонирования';\n",
    "proc print data=narrow_file1; run;\n",
    "\n",
    "proc transpose data=narrow_file1 \n",
    "               out=transposed_narrow_file1\n",
    "               name=SOURCE\n",
    "               ; \n",
    "    id pet;\n",
    "run;\n",
    "\n",
    "title 'набор после транспонирования (оператор id ...;)';\n",
    "proc print data=transposed_narrow_file1; run;\n",
    "title; "
   ]
  },
  {
   "cell_type": "markdown",
   "metadata": {},
   "source": [
    "### 1.4  Транспонирование нескольких переменных\n",
    "Для этого можно явно указать список переменных для транспонирования в операторе `var ...;`  "
   ]
  },
  {
   "cell_type": "code",
   "execution_count": null,
   "metadata": {},
   "outputs": [],
   "source": [
    "proc transpose data=narrow_file1 \n",
    "               out=transposed_narrow_file1\n",
    "               name=SOURCE\n",
    "               ; \n",
    "    var pet population;\n",
    "run;\n",
    "\n",
    "title 'набор после транспонирования (оператор var ...;)';\n",
    "proc print data=transposed_narrow_file1; run;\n",
    "title; "
   ]
  },
  {
   "cell_type": "markdown",
   "metadata": {},
   "source": [
    "### 1.5  Транспонирование внутри группы - оператор `by...;`\n",
    "Если мы хотим получить по одному наблюдению на владельца (pet_owner), то используем данный оператор. \n",
    "\n",
    "**_Замечание:_** набор должен быть отсортирован по переменным, указанным в `by ...;` или нужно явно сказать, что набор не был сортирован по данной переменной (см. ниже)!    \n",
    "\n",
    "**_Замечание:_** используйте оператор `id ...;` вместе с `by ...;`, чтобы создавались переменные для всех различных значений во всех группах! (Попробуйте закоментировать оператор `id ...;` - посмотрите на результат - не совсем то, что хотелось?)   \n"
   ]
  },
  {
   "cell_type": "code",
   "execution_count": null,
   "metadata": {},
   "outputs": [],
   "source": [
    "proc transpose data=narrow_file1 \n",
    "               out=transposed_narrow_file1\n",
    "               name=SOURCE\n",
    "               ; \n",
    "    id pet;\n",
    "    var population;\n",
    "    by notsorted pet_owner;\n",
    "run;\n",
    "\n",
    "title 'набор после транспонирования (оператор by ...;)';\n",
    "proc print data=transposed_narrow_file1; run;\n",
    "title; "
   ]
  },
  {
   "cell_type": "markdown",
   "metadata": {},
   "source": [
    "### 1.6 В обратную сторону\n",
    "В общем, то же самое:\n",
    " - `var ...;` перечисление переменных для транспонирования (иначе будут использованы только числовые); \n",
    " - `by ...;` говорит, что процесс происходит внутри групп (не сортированных);\n",
    " - `name=` задает имя переменной - результата транспонирования;\n",
    " - `prefix=` - префикс;\n",
    " \n",
    " _**Обратите внимание:**_ кол-во наблюдений в группах по `pet_owner` всегда одинаковое и равно кол-ву переменных в `var ...;`"
   ]
  },
  {
   "cell_type": "code",
   "execution_count": null,
   "metadata": {},
   "outputs": [],
   "source": [
    "proc transpose data=transposed_narrow_file1 \n",
    "               out=back_narrow_file1\n",
    "               name=pet\n",
    "               prefix=population\n",
    "               ; \n",
    "    var dog bird fish cat;\n",
    "    by notsorted pet_owner;\n",
    "run;\n",
    "\n",
    "title 'набор после транспонирования';\n",
    "proc print data=back_narrow_file1; run;\n",
    "title; "
   ]
  },
  {
   "cell_type": "markdown",
   "metadata": {},
   "source": [
    "#### 1.6.1 **ЗАДАНИЕ:** \n",
    "Используя опции наборов данных, 1) переименуйте population1 в population, 2) удалите все строки с population1 = .;"
   ]
  },
  {
   "cell_type": "code",
   "execution_count": null,
   "metadata": {},
   "outputs": [],
   "source": [
    "/* исправленные код для задания 1.6.1 здесь */"
   ]
  },
  {
   "cell_type": "markdown",
   "metadata": {},
   "source": [
    "### 2. SAS Macro\n",
    "Вам нужно дописать макрос, определенный ниже, который производит транспонирование набора данных (передается в параметре ds=) по переменным из списка (парамерт vars=), переменные в списке разделены пробелами, и печатает результат. Транспонирование самое простое: указываем входной и выходной набобры, ну и переменные в операторе var=...; \n",
    "Макрос должен:\n",
    " - корректно обрабатывать ситуации, когда в макрос переданы пустые параметры;\n",
    " - проверять существует ли файл, указанные в параметре ds=, если нет, то печатать в лог соответствующее сообщение;\n",
    " - проверять присутствуют ли в наборе данных ds= переменные из списка vars=, транспонировать только по тем что есть;\n",
    " - корректно обрабативать ситуация, когда в списке vars= нет ни одной переменной из набора ds=;\n",
    "\n",
    "** После того, как написали макрос, выполните 5 вызовов макроса ниже.**\n",
    " \n",
    "**_Замечание:_** вам понадобиться %sysfunc(), чтобы вызвать необходимые для решения задачи функции SAS."
   ]
  },
  {
   "cell_type": "code",
   "execution_count": null,
   "metadata": {
    "scrolled": true
   },
   "outputs": [],
   "source": [
    "/* определение макроса */\n",
    "%macro transpose_dataset_vars(ds=, vars=);\n",
    "    /* ... */\n",
    "%mend transpose_dataset_vars;"
   ]
  },
  {
   "cell_type": "code",
   "execution_count": null,
   "metadata": {
    "collapsed": true
   },
   "outputs": [],
   "source": [
    "/* вызов макроса 1 */\n",
    "%transpose_dataset_vars(ds=narrow_file1, vars=pet population );"
   ]
  },
  {
   "cell_type": "code",
   "execution_count": null,
   "metadata": {
    "collapsed": true
   },
   "outputs": [],
   "source": [
    "/* вызов макроса 2 */\n",
    "%transpose_dataset_vars(ds=narrow_1file1, vars=pet population);"
   ]
  },
  {
   "cell_type": "code",
   "execution_count": null,
   "metadata": {
    "collapsed": true
   },
   "outputs": [],
   "source": [
    "/* вызов макроса 3 */\n",
    "%transpose_dataset_vars(ds=narrow_file1, vars=pet population age);"
   ]
  },
  {
   "cell_type": "code",
   "execution_count": null,
   "metadata": {
    "collapsed": true
   },
   "outputs": [],
   "source": [
    "/* вызов макроса 4 */\n",
    "%transpose_dataset_vars(ds=narrow_file1, vars=);"
   ]
  },
  {
   "cell_type": "code",
   "execution_count": null,
   "metadata": {
    "collapsed": true
   },
   "outputs": [],
   "source": [
    "/* вызов макроса 5 */\n",
    "%transpose_dataset_vars(ds=narrow_file1, vars=age city);"
   ]
  }
 ],
 "metadata": {
  "kernelspec": {
   "display_name": "SAS",
   "language": "sas",
   "name": "sas"
  },
  "language_info": {
   "codemirror_mode": "sas",
   "file_extension": ".sas",
   "mimetype": "text/x-sas",
   "name": "sas"
  }
 },
 "nbformat": 4,
 "nbformat_minor": 1
}
